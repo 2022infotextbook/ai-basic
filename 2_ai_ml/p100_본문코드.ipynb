{
  "nbformat": 4,
  "nbformat_minor": 0,
  "metadata": {
    "colab": {
      "provenance": []
    },
    "kernelspec": {
      "name": "python3",
      "display_name": "Python 3"
    },
    "language_info": {
      "name": "python"
    }
  },
  "cells": [
    {
      "cell_type": "code",
      "execution_count": null,
      "metadata": {
        "id": "arVLa_2Ixs4_"
      },
      "outputs": [],
      "source": [
        "# 선형 회귀 알고리즘 사용을 위한 라이브러리 포함하기\n",
        "from sklearn.linear_model import LinearRegression\n",
        "from sklearn.metrics import mean_absolute_error\n",
        "from sklearn.metrics import mean_squared_error\n",
        "model = LinearRegression() # 선형 회귀 알고리즘 객체 생성\n",
        "# 학습 데이터를 주어 학습\n",
        "model.fit( x_train, y_train)\n",
        "# 학습한 모델에 테스트 데이터로 예측\n",
        "model_pred = model.predict(x_test)\n",
        "# 예측 성능 평가(평균절대오차)\n",
        "mae=mean_absolute_error(y_test, model_pred)\n",
        "# 예측 성능 평가(평균제곱오차)\n",
        "mse=mean_squared_error(y_test,model_pred)"
      ]
    },
    {
      "cell_type": "code",
      "source": [
        "print(model.coef_ , model.intercept_  )"
      ],
      "metadata": {
        "id": "jDX24NrQxwMb"
      },
      "execution_count": null,
      "outputs": []
    },
    {
      "cell_type": "code",
      "source": [],
      "metadata": {
        "id": "PUvEF7JmxwrN"
      },
      "execution_count": null,
      "outputs": []
    }
  ]
}