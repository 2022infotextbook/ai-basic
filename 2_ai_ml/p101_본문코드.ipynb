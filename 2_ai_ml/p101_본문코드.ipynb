{
  "nbformat": 4,
  "nbformat_minor": 0,
  "metadata": {
    "colab": {
      "provenance": []
    },
    "kernelspec": {
      "name": "python3",
      "display_name": "Python 3"
    },
    "language_info": {
      "name": "python"
    }
  },
  "cells": [
    {
      "cell_type": "code",
      "execution_count": null,
      "metadata": {
        "id": "CPTLJV9WyJJz"
      },
      "outputs": [],
      "source": [
        "from sklearn.cluster import KMeans\n",
        "model = KMeans(n_clusters=3) # k-평균 알고리즘 사용 / k=3\n",
        "model.fit(x) # 정답없는 데이터를 주어 학습\n",
        "model_pred = model.predict(x_new) # 학습한 모델로 테스트 데이터 예측"
      ]
    },
    {
      "cell_type": "code",
      "source": [
        "print(model.cluster_centers_)"
      ],
      "metadata": {
        "id": "LdgXRKhQyM7r"
      },
      "execution_count": null,
      "outputs": []
    },
    {
      "cell_type": "code",
      "source": [],
      "metadata": {
        "id": "mpc6TIgZyOtT"
      },
      "execution_count": null,
      "outputs": []
    }
  ]
}