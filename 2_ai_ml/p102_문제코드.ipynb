{
  "nbformat": 4,
  "nbformat_minor": 0,
  "metadata": {
    "colab": {
      "provenance": []
    },
    "kernelspec": {
      "name": "python3",
      "display_name": "Python 3"
    },
    "language_info": {
      "name": "python"
    }
  },
  "cells": [
    {
      "cell_type": "code",
      "execution_count": null,
      "metadata": {
        "id": "in2oAEVcyeac"
      },
      "outputs": [],
      "source": [
        "# k-평균 알고리즘 사용을 위한 라이브러리 포함하기\n",
        "from sklearn.cluster import KMeans\n",
        "model = KMeans() # k-평균 알고리즘 객체 생성\n",
        "model.fit( x_train ) # 학습 데이터를 주어 학습"
      ]
    },
    {
      "cell_type": "code",
      "source": [
        "print(model.cluster_centers_ )"
      ],
      "metadata": {
        "id": "hONIAW_YyjHC"
      },
      "execution_count": null,
      "outputs": []
    },
    {
      "cell_type": "code",
      "source": [],
      "metadata": {
        "id": "rL6ArqDCykEe"
      },
      "execution_count": null,
      "outputs": []
    }
  ]
}