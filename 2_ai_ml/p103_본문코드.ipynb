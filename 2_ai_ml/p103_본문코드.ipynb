{
  "nbformat": 4,
  "nbformat_minor": 0,
  "metadata": {
    "colab": {
      "provenance": []
    },
    "kernelspec": {
      "name": "python3",
      "display_name": "Python 3"
    },
    "language_info": {
      "name": "python"
    }
  },
  "cells": [
    {
      "cell_type": "code",
      "execution_count": 1,
      "metadata": {
        "id": "oW8oRbWMy1EL"
      },
      "outputs": [],
      "source": [
        "y_true = [1, 0, 1, 1, 0, 1] # 실제 값\n",
        "y_pred = [1, 0, 1, 0, 0, 1] # 예측 값\n",
        "from sklearn.metrics import confusion_matrix\n",
        "cm = confusion_matrix(y_true, y_pred)"
      ]
    },
    {
      "cell_type": "code",
      "source": [
        "from sklearn.metrics import accuracy_score\n",
        "accuracy = accuracy_score(y_true, y_pred)"
      ],
      "metadata": {
        "id": "02ykFxxEy5jm"
      },
      "execution_count": 2,
      "outputs": []
    },
    {
      "cell_type": "code",
      "source": [
        "from sklearn.metrics import accuracy_score\n",
        "accuracy = accuracy_score(y_true, y_pred)"
      ],
      "metadata": {
        "id": "myk7sJxyy5hB"
      },
      "execution_count": 3,
      "outputs": []
    },
    {
      "cell_type": "code",
      "source": [
        "from sklearn.metrics import precision_score\n",
        "precision = precision_score(y_true, y_pred)"
      ],
      "metadata": {
        "id": "NRrbvaSHy5ec"
      },
      "execution_count": 4,
      "outputs": []
    },
    {
      "cell_type": "code",
      "source": [
        "from sklearn.metrics import recall_score\n",
        "recall = recall_score(y_true, y_pred)"
      ],
      "metadata": {
        "id": "IPCumDlFy5ba"
      },
      "execution_count": 5,
      "outputs": []
    },
    {
      "cell_type": "code",
      "source": [],
      "metadata": {
        "id": "bdx9Bzjoy5YK"
      },
      "execution_count": null,
      "outputs": []
    }
  ]
}