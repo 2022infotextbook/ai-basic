{
  "nbformat": 4,
  "nbformat_minor": 0,
  "metadata": {
    "colab": {
      "provenance": []
    },
    "kernelspec": {
      "name": "python3",
      "display_name": "Python 3"
    },
    "language_info": {
      "name": "python"
    }
  },
  "cells": [
    {
      "cell_type": "code",
      "execution_count": 5,
      "metadata": {
        "colab": {
          "base_uri": "https://localhost:8080/"
        },
        "id": "r7GLKu8SzRq7",
        "outputId": "a29a2fec-de3a-424c-a70f-1bc98e997b31"
      },
      "outputs": [
        {
          "output_type": "stream",
          "name": "stdout",
          "text": [
            "--2023-12-28 05:09:44--  https://github.com/progh2/aibasic/raw/main/ch2/wizard.csv\n",
            "Resolving github.com (github.com)... 140.82.113.3\n",
            "Connecting to github.com (github.com)|140.82.113.3|:443... connected.\n",
            "HTTP request sent, awaiting response... 302 Found\n",
            "Location: https://raw.githubusercontent.com/progh2/aibasic/main/ch2/wizard.csv [following]\n",
            "--2023-12-28 05:09:44--  https://raw.githubusercontent.com/progh2/aibasic/main/ch2/wizard.csv\n",
            "Resolving raw.githubusercontent.com (raw.githubusercontent.com)... 185.199.108.133, 185.199.109.133, 185.199.110.133, ...\n",
            "Connecting to raw.githubusercontent.com (raw.githubusercontent.com)|185.199.108.133|:443... connected.\n",
            "HTTP request sent, awaiting response... 200 OK\n",
            "Length: 819180 (800K) [text/plain]\n",
            "Saving to: ‘wizard.csv’\n",
            "\n",
            "\rwizard.csv            0%[                    ]       0  --.-KB/s               \rwizard.csv          100%[===================>] 799.98K  --.-KB/s    in 0.03s   \n",
            "\n",
            "2023-12-28 05:09:44 (24.0 MB/s) - ‘wizard.csv’ saved [819180/819180]\n",
            "\n",
            "예측 정확도:  1.0\n",
            "마법 에너지: 81, 마법 경험: 10, 마법사 가족 수: 1 ->  Wizard\n"
          ]
        }
      ],
      "source": [
        "import pandas as pd # 판다스 라이브러리 사용\n",
        "import numpy as np # 넘파이 라이브러리 사용\n",
        "# 학습 데이터 분할 라이브러리\n",
        "from sklearn.model_selection import train_test_split\n",
        "#성능 평가 라이브러리\n",
        "from sklearn.metrics import accuracy_score\n",
        "# k-최근접 이웃 분류 라이브러리\n",
        "from sklearn.neighbors import KNeighborsClassifier\n",
        "# wizard.csv 파일을 다운로드\n",
        "!wget -O wizard.csv \"https://github.com/2022infotextbook/ai-basic/raw/main/2_ai_ml/wizard.csv\"\n",
        "# 다운로드한 wizard.csv 파일을 데이터 프레임으로 불러온다.\n",
        "df = pd.read_csv(\"wizard.csv\")\n",
        "# 데이터 전처리 - 정답 속성을 제거하고 배열로 변경\n",
        "X = df.drop(columns=[\"Type\"])\n",
        "y = df[\"Type\"]\n",
        "# 훈련 데이터와 테스트 데이터 분할\n",
        "X_train, X_test, y_train, y_test = train_test_split(X.values, y, test_size=0.2, random_state=42)\n",
        "# k-최근접 이웃 분류기 모델 훈련\n",
        "model = KNeighborsClassifier(n_neighbors=5)\n",
        "model.fit(X_train, y_train)\n",
        "y_pred = model.predict(X_test) # 예측 및 정확도 측정\n",
        "accuracy = accuracy_score(y_test, y_pred)\n",
        "print(\"예측 정확도: \", accuracy)\n",
        "# 새로운 데이터 예측. 마법 에너지: 81, 마법 경험: 10, 마법사 가족 수: 1명인 사람은?\n",
        "new_data = np.array([[81, 10, 1]])\n",
        "prediction = model.predict(new_data)\n",
        "print(\"마법 에너지: 81, 마법 경험: 10, 마법사 가족 수: 1 -> \", prediction[0])"
      ]
    }
  ]
}