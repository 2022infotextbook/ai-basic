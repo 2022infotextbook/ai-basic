{
  "nbformat": 4,
  "nbformat_minor": 0,
  "metadata": {
    "colab": {
      "provenance": []
    },
    "kernelspec": {
      "name": "python3",
      "display_name": "Python 3"
    },
    "language_info": {
      "name": "python"
    }
  },
  "cells": [
    {
      "cell_type": "code",
      "execution_count": 5,
      "metadata": {
        "colab": {
          "base_uri": "https://localhost:8080/"
        },
        "id": "tUS6xoSC7Llp",
        "outputId": "5669202b-5921-4300-964e-0e4439827433"
      },
      "outputs": [
        {
          "output_type": "stream",
          "name": "stdout",
          "text": [
            "--2023-12-28 05:45:19--  https://github.com/2022infotextbook/ai-basic/raw/main/2_ai_ml/score.csv\n",
            "Resolving github.com (github.com)... 140.82.113.4\n",
            "Connecting to github.com (github.com)|140.82.113.4|:443... connected.\n",
            "HTTP request sent, awaiting response... 302 Found\n",
            "Location: https://raw.githubusercontent.com/2022infotextbook/ai-basic/main/2_ai_ml/score.csv [following]\n",
            "--2023-12-28 05:45:19--  https://raw.githubusercontent.com/2022infotextbook/ai-basic/main/2_ai_ml/score.csv\n",
            "Resolving raw.githubusercontent.com (raw.githubusercontent.com)... 185.199.108.133, 185.199.109.133, 185.199.110.133, ...\n",
            "Connecting to raw.githubusercontent.com (raw.githubusercontent.com)|185.199.108.133|:443... connected.\n",
            "HTTP request sent, awaiting response... 200 OK\n",
            "Length: 7678 (7.5K) [text/plain]\n",
            "Saving to: ‘score.csv’\n",
            "\n",
            "\rscore.csv             0%[                    ]       0  --.-KB/s               \rscore.csv           100%[===================>]   7.50K  --.-KB/s    in 0s      \n",
            "\n",
            "2023-12-28 05:45:19 (73.3 MB/s) - ‘score.csv’ saved [7678/7678]\n",
            "\n",
            "\n",
            "MSE : 2.788, RMSE : 1.670\n",
            "\n",
            "\n",
            "절편 값:\n",
            " -0.45895866115489525\n",
            "\n",
            "회귀 계수값:\n",
            "\n",
            " [ 0.  0. 10.  0. -0.  0.  0.]\n",
            "[98.91014288]\n"
          ]
        }
      ],
      "source": [
        "import pandas as pd # 판다스 라이브러리 사용\n",
        "import numpy as np # 넘파이 라이브러리 사용\n",
        "from sklearn.model_selection import train_test_split # 학습 데이터 분할 라이브러리\n",
        "from sklearn.linear_model import LinearRegression #선형 회귀 라이브러리\n",
        "from sklearn.metrics import mean_squared_error #성능 평가 라이브러리\n",
        "# score.csv 파일을 다운로드\n",
        "!wget -O score.csv \"https://github.com/2022infotextbook/ai-basic/raw/main/2_ai_ml/score.csv\"\n",
        "# 다운로드한 score.csv 파일을 데이터 프레임으로 불러온다.\n",
        "df = pd.read_csv(\"score.csv\")\n",
        "X = df.drop(columns=[\"Final Scores\"]) # 데이터 전처리\n",
        "y = df[\"Final Scores\"]\n",
        "# 훈련 데이터와 테스트 데이터 분할\n",
        "X_train, X_test, y_train, y_test = train_test_split(X.values, y, test_size=0.2, random_state=42)\n",
        "model = LinearRegression () # 선형 회귀 모델 훈련\n",
        "model.fit (X_train, y_train)\n",
        "y_pred = model.predict (X_test) # 예측 및 평가\n",
        "mse = mean_squared_error (y_test, y_pred)\n",
        "rmse = np.sqrt(mse)\n",
        "print('\\nMSE : {0:.3f}, RMSE : {1:.3F}\\n'.format(mse, rmse))\n",
        "print('\\n절편 값:\\n', model.intercept_)\n",
        "print('\\n회귀 계수값:\\n\\n', np.round(model.coef_, -1))\n",
        "# 새로운 데이터에 대한 예측\n",
        "# 중간고사 98점, 과제점수 100점, 출석률 100%, 그리핀도르 기숙사 학생의 예상 점수\n",
        "new_data = np.array([[98,100,1,1,0,0,0]])\n",
        "predicted_score = model.predict(new_data)\n",
        "print(predicted_score)"
      ]
    },
    {
      "cell_type": "code",
      "source": [],
      "metadata": {
        "id": "nfEhJx8r7OWt"
      },
      "execution_count": null,
      "outputs": []
    },
    {
      "cell_type": "markdown",
      "source": [],
      "metadata": {
        "id": "jSHA9Hwl7OFL"
      }
    }
  ]
}