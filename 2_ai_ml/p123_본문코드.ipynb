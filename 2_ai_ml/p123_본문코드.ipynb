{
  "nbformat": 4,
  "nbformat_minor": 0,
  "metadata": {
    "colab": {
      "provenance": []
    },
    "kernelspec": {
      "name": "python3",
      "display_name": "Python 3"
    },
    "language_info": {
      "name": "python"
    }
  },
  "cells": [
    {
      "cell_type": "code",
      "execution_count": 1,
      "metadata": {
        "colab": {
          "base_uri": "https://localhost:8080/"
        },
        "id": "4jpFIAfbHTOH",
        "outputId": "97785b74-a51d-4a03-da8b-1c97f5c88245"
      },
      "outputs": [
        {
          "output_type": "stream",
          "name": "stdout",
          "text": [
            "Downloading data from https://storage.googleapis.com/tensorflow/tf-keras-datasets/mnist.npz\n",
            "11490434/11490434 [==============================] - 0s 0us/step\n",
            "Test accuracy: 0.9688\n"
          ]
        }
      ],
      "source": [
        "import tensorflow as tf # 필요한 라이브러리 추가\n",
        "from sklearn.neighbors import KNeighborsClassifier\n",
        "from sklearn.metrics import accuracy_score\n",
        "mnist = tf.keras.datasets.mnist # 데이터셋 불러오기\n",
        "(x_train, y_train), (x_test, y_test) = mnist.load_data()\n",
        "x_train, x_test = x_train / 255.0, x_test / 255.0 # 데이터 정규화\n",
        "x_train = x_train.reshape(-1, 28*28) # 데이터 1차원으로 변환\n",
        "x_test = x_test.reshape(-1, 28*28)\n",
        "model = KNeighborsClassifier(n_neighbors=5) # KNN 모델 정의\n",
        "model.fit(x_train, y_train) # 모델 학습 및 예측 수행\n",
        "predictions = model.predict(x_test)\n",
        "accuracy = accuracy_score(y_test, predictions) # 성능 평가\n",
        "print(\"Test accuracy:\", accuracy)"
      ]
    }
  ]
}