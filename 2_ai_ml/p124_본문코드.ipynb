{
  "nbformat": 4,
  "nbformat_minor": 0,
  "metadata": {
    "colab": {
      "provenance": []
    },
    "kernelspec": {
      "name": "python3",
      "display_name": "Python 3"
    },
    "language_info": {
      "name": "python"
    }
  },
  "cells": [
    {
      "cell_type": "code",
      "execution_count": null,
      "metadata": {
        "colab": {
          "base_uri": "https://localhost:8080/"
        },
        "id": "oB_DGGHDJ4qy",
        "outputId": "c9c0a78c-ebdd-4a4f-8474-56dad241b966"
      },
      "outputs": [
        {
          "output_type": "stream",
          "name": "stdout",
          "text": [
            "Downloading data from https://storage.googleapis.com/tensorflow/tf-keras-datasets/mnist.npz\n",
            "11490434/11490434 [==============================] - 0s 0us/step\n",
            "Model: \"sequential\"\n",
            "_________________________________________________________________\n",
            " Layer (type)                Output Shape              Param #   \n",
            "=================================================================\n",
            " conv2d (Conv2D)             (None, 26, 26, 32)        320       \n",
            "                                                                 \n",
            " max_pooling2d (MaxPooling2  (None, 13, 13, 32)        0         \n",
            " D)                                                              \n",
            "                                                                 \n",
            " conv2d_1 (Conv2D)           (None, 11, 11, 64)        18496     \n",
            "                                                                 \n",
            " max_pooling2d_1 (MaxPoolin  (None, 5, 5, 64)          0         \n",
            " g2D)                                                            \n",
            "                                                                 \n",
            " flatten (Flatten)           (None, 1600)              0         \n",
            "                                                                 \n",
            " dense (Dense)               (None, 128)               204928    \n",
            "                                                                 \n",
            " dense_1 (Dense)             (None, 10)                1290      \n",
            "                                                                 \n",
            "=================================================================\n",
            "Total params: 225034 (879.04 KB)\n",
            "Trainable params: 225034 (879.04 KB)\n",
            "Non-trainable params: 0 (0.00 Byte)\n",
            "_________________________________________________________________\n",
            "Epoch 1/10\n",
            "422/422 [==============================] - 29s 63ms/step - loss: 0.2242 - accuracy: 0.9355 - val_loss: 0.0773 - val_accuracy: 0.9770\n",
            "Epoch 2/10\n",
            "422/422 [==============================] - 23s 53ms/step - loss: 0.0625 - accuracy: 0.9807 - val_loss: 0.0498 - val_accuracy: 0.9878\n",
            "Epoch 3/10\n",
            "130/422 [========>.....................] - ETA: 14s - loss: 0.0433 - accuracy: 0.9873"
          ]
        }
      ],
      "source": [
        "import tensorflow as tf\n",
        "from tensorflow import keras\n",
        "# 데이터셋 불러오기\n",
        "(x_train, y_train), (x_test, y_test) = keras.datasets.mnist.load_data()\n",
        "x_train = x_train.astype(\"float32\") / 255 # 데이터 정규화\n",
        "x_test = x_test.astype(\"float32\") / 255\n",
        "x_train = x_train.reshape(-1, 28, 28, 1) # 데이터 차원 변경\n",
        "x_test = x_test.reshape(-1, 28, 28, 1)\n",
        "y_train = keras.utils.to_categorical(y_train, 10) # 레이블 one-hot 인코딩\n",
        "y_test = keras.utils.to_categorical(y_test, 10)\n",
        "# 합성곱 신경망(CNN,convolution neural network) 합성곱층 정의\n",
        "model = keras.Sequential([\n",
        " keras.layers.Input(shape=(28, 28, 1)),\n",
        " keras.layers.Conv2D(32, kernel_size=(3, 3), activation=\"relu\"),\n",
        " keras.layers.MaxPooling2D(pool_size=(2, 2)),\n",
        " keras.layers.Conv2D(64, kernel_size=(3, 3), activation=\"relu\"),\n",
        " keras.layers.MaxPooling2D(pool_size=(2, 2)),\n",
        " keras.layers.Flatten(),\n",
        " keras.layers.Dense(128, activation=\"relu\"),\n",
        " keras.layers.Dense(10, activation=\"softmax\")\n",
        "])\n",
        "model.summary()\n",
        "model.compile(loss=\"categorical_crossentropy\", optimizer=\"adam\",\n",
        " metrics=[\"accuracy\"])\n",
        "history = model.fit(x_train, y_train, batch_size=128, epochs=10,\n",
        " validation_split=0.1)\n",
        "test_loss, test_acc = model.evaluate(x_test, y_test, verbose=2) # 성능 평가\n",
        "print(\"Test accuracy:\", test_acc)"
      ]
    }
  ]
}