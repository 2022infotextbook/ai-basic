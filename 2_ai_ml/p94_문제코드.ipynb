{
  "nbformat": 4,
  "nbformat_minor": 0,
  "metadata": {
    "colab": {
      "provenance": []
    },
    "kernelspec": {
      "name": "python3",
      "display_name": "Python 3"
    },
    "language_info": {
      "name": "python"
    }
  },
  "cells": [
    {
      "cell_type": "code",
      "execution_count": null,
      "metadata": {
        "id": "hI1uAZkXuwfO"
      },
      "outputs": [],
      "source": [
        "# k-최근접 이웃 알고리즘 사용을 위한 라이브러리 포함하기\n",
        "from sklearn.neighbors import KNeighborsClassifier\n",
        "from sklearn.metrics import accuracy_score\n",
        "model = KNeighborsClassifier() # k-최근접 이웃 알고리즘 객체 생성\n",
        "# 학습 데이터를 주어 학습\n",
        "model.fit( x_train, y_train )\n",
        "# 학습한 모델에 테스트 데이터로 예측\n",
        "model_pred = model.predict( x_test )\n",
        "# 예측한 데이터 성능 평가(정확도)\n",
        "score = accuracy_score( y_test , model_pred)"
      ]
    },
    {
      "cell_type": "code",
      "source": [],
      "metadata": {
        "id": "05AF3FllvAnj"
      },
      "execution_count": null,
      "outputs": []
    }
  ]
}