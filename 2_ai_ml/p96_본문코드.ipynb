{
  "nbformat": 4,
  "nbformat_minor": 0,
  "metadata": {
    "colab": {
      "provenance": []
    },
    "kernelspec": {
      "name": "python3",
      "display_name": "Python 3"
    },
    "language_info": {
      "name": "python"
    }
  },
  "cells": [
    {
      "cell_type": "code",
      "execution_count": null,
      "metadata": {
        "id": "-ZBL_16QvSer"
      },
      "outputs": [],
      "source": [
        "from sklearn.tree import DecisionTreeClassifier\n",
        "from sklearn.metrics import accuracy_score\n",
        "model = DecisionTreeClassifier() # 의사 결정 트리 알고리즘 객체 생성\n",
        "model.fit(x_train, y_train) # 학습 데이터를 주어 학습\n",
        "model_pred = model.predict(x_test) # 학습한 모델로 테스트 데이터 예측\n",
        "score=accuracy_score(y_test, model_pred) # 예측 성능 평가(정확도)"
      ]
    },
    {
      "cell_type": "code",
      "source": [
        "import pandas as pd\n",
        "features = pd.Series(model.feature_importances_, df1.columns)\n",
        "features_importance = features.sort_values(ascending=False)\n",
        "sns.barplot(x=features_importance, y=features_importance.index)\n",
        "plt.show()"
      ],
      "metadata": {
        "id": "tRwDoNCkvXWG"
      },
      "execution_count": null,
      "outputs": []
    }
  ]
}