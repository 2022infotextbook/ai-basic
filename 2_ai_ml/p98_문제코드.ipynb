{
  "nbformat": 4,
  "nbformat_minor": 0,
  "metadata": {
    "colab": {
      "provenance": []
    },
    "kernelspec": {
      "name": "python3",
      "display_name": "Python 3"
    },
    "language_info": {
      "name": "python"
    }
  },
  "cells": [
    {
      "cell_type": "code",
      "execution_count": null,
      "metadata": {
        "id": "GKkSE1KEwkwr"
      },
      "outputs": [],
      "source": [
        "# 의사 결정 트리 알고리즘 사용을 위한 라이브러리 포함하기\n",
        "from sklearn.neighbors import DecisionTreeClassifier\n",
        "from sklearn.metrics import accuracy_score\n",
        "# 의사 결정 트리 알고리즘 객체 생성\n",
        "model = DecisionTreeClassifier()\n",
        "# 학습 데이터를 주어 학습\n",
        "model.fit(x_train , y_train)\n",
        "# 학습한 모델에 테스트 데이터로 예측\n",
        "model_pred = model.predict(x_test)\n",
        "# 예측한 데이터 성능 평가(정확도)\n",
        "score = accuracy_score( y_train, model_pred)"
      ]
    },
    {
      "cell_type": "code",
      "source": [],
      "metadata": {
        "id": "_y8-4PFfwpp8"
      },
      "execution_count": null,
      "outputs": []
    }
  ]
}