{
  "nbformat": 4,
  "nbformat_minor": 0,
  "metadata": {
    "colab": {
      "provenance": []
    },
    "kernelspec": {
      "name": "python3",
      "display_name": "Python 3"
    },
    "language_info": {
      "name": "python"
    }
  },
  "cells": [
    {
      "cell_type": "code",
      "execution_count": null,
      "metadata": {
        "id": "qCHrfGtbw9KG"
      },
      "outputs": [],
      "source": [
        "from sklearn.linear_model import LinearRegression\n",
        "from sklearn.metrics import mean_absolute_error\n",
        "from sklearn.metrics import mean_squared_error\n",
        "model = LinearRegression() # 선형 회귀 알고리즘 사용\n",
        "model.fit(x_train, y_train) # 학습 데이터를 주어 학습\n",
        "model_pred = model.predict(x_test) # 학습한 모델로 테스트 데이터 예측\n",
        "mae=mean_absolute_error(y_test, model_pred) # 예측 성능 평가(평균절대오차)\n",
        "mse=mean_squared_error(y_test, model_pred) # 예측 성능 평가(평균제곱오차)"
      ]
    },
    {
      "cell_type": "code",
      "source": [
        "print(model.coef_, model.intercept_)"
      ],
      "metadata": {
        "id": "NRduV9ZQxBDa"
      },
      "execution_count": null,
      "outputs": []
    },
    {
      "cell_type": "code",
      "source": [],
      "metadata": {
        "id": "8ZPvHXA3xBiZ"
      },
      "execution_count": null,
      "outputs": []
    },
    {
      "cell_type": "markdown",
      "source": [],
      "metadata": {
        "id": "8E8_DhsSxAsa"
      }
    }
  ]
}